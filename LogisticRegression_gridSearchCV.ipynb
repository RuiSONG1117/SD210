{
 "cells": [
  {
   "cell_type": "markdown",
   "metadata": {},
   "source": [
    "# Prédiction du genre d'une personne à partir de sa photo\n",
    "\n",
    "auteur : Umut Şimşekli & Alexandre Gramfort, challenge SD210 2017\n",
    "\n",
    "L'objectif est de prédire le genre d'une personne (homme ou femme) à partir de caractéristiques extraites d'une photo.\n",
    "\n",
    "Les données sont fournies par la société Morpho: http://www.morpho.com/fr\n",
    "\n",
    "Le fichier que doit fournir chacun est un fichier au format .txt de 8496 lignes::\n",
    "\n",
    "    1\n",
    "    0\n",
    "    -1\n",
    "    1\n",
    "    ...\n",
    "\n",
    "où chaque ligne contient la prédiction. Contrairement à un problème de classification binaire où y=1 ou y=-1, vous avez la possibilité de prédire 0, ce qui signifie que vous ne savez pas. Il y a 8496 images dans l'ensemble de validation.\n",
    "\n",
    "\n",
    "### Critère de performance \n",
    "\n",
    "Vous pouvez donc répondre pour chaque image : homme (y=1), femme (y=-1) ou je-ne-sais-pas (y=0).\n",
    "\n",
    "Se tromper coûte 10 points et ne pas savoir coûte 1 point. Mathématiquement, le score est calculé de la façon suivante:\n",
    " \n",
    "$score = \\frac1{N} \\sum_{i=1}^N \\Bigl(\\mathbb{1}(\\hat{y}_i = 0) + 10 \\times \\mathbb{1}(y_i \\hat{y}_i = -1)   \\Bigr) $ \n",
    "\n",
    "où $\\mathbb{1}(\\cdot)$ est la fonction indicatrice; $\\mathbb{1}(x) = 1$ si $x$ est vrai, et $\\mathbb{1}(x) = 0$, sinon.\n",
    "\n",
    "Plus ce nombre est petit mieux c'est.\n",
    "\n",
    "\n",
    "# Données d'apprentissage: \n",
    "\n",
    "https://www.dropbox.com/s/dqudxed82ljnxa8/training_templates.csv\n",
    "\n",
    "https://www.dropbox.com/s/l0f9z08rysp0kjy/training_labels.txt\n",
    "\n",
    "\n",
    "# Données de validation:\n",
    "\n",
    "https://www.dropbox.com/s/syrry7miykrmjz0/testing_templates.csv\n",
    "\n",
    "Voyons cela par l'exemple:"
   ]
  },
  {
   "cell_type": "code",
   "execution_count": 11,
   "metadata": {
    "collapsed": true
   },
   "outputs": [],
   "source": [
    "%matplotlib inline\n",
    "import numpy as np\n",
    "import matplotlib.pyplot as plt\n",
    "import pandas as pd"
   ]
  },
  {
   "cell_type": "code",
   "execution_count": 12,
   "metadata": {
    "collapsed": true
   },
   "outputs": [],
   "source": [
    "# Critere de performance\n",
    "def compute_pred_score(y_true, y_pred):\n",
    "    y_pred_unq =  np.unique(y_pred)\n",
    "    for i in y_pred_unq:\n",
    "        if((i != -1) & (i!= 1) & (i!= 0) ):\n",
    "            raise ValueError('The predictions can contain only -1, 1, or 0!')\n",
    "    y_comp = y_true * y_pred\n",
    "    score = float(10*np.sum(y_comp == -1) + np.sum(y_comp == 0))\n",
    "    score /= y_comp.shape[0]\n",
    "    return score"
   ]
  },
  {
   "cell_type": "code",
   "execution_count": 13,
   "metadata": {
    "collapsed": false
   },
   "outputs": [],
   "source": [
    "X_train_fname = 'training_templates.csv'\n",
    "y_train_fname = 'training_labels.txt'\n",
    "X_test_fname  = 'testing_templates.csv'\n",
    "X_train = pd.read_csv(X_train_fname, sep=',', header=None).values\n",
    "X_test  = pd.read_csv(X_test_fname,  sep=',', header=None).values\n",
    "y_train = np.loadtxt(y_train_fname, dtype=np.int)"
   ]
  },
  {
   "cell_type": "markdown",
   "metadata": {},
   "source": [
    "## Investigation des données"
   ]
  },
  {
   "cell_type": "code",
   "execution_count": 14,
   "metadata": {
    "collapsed": false
   },
   "outputs": [
    {
     "data": {
      "text/plain": [
       "((105600, 128), (8496, 128), (105600,))"
      ]
     },
     "execution_count": 14,
     "metadata": {},
     "output_type": "execute_result"
    }
   ],
   "source": [
    "X_train.shape, X_test.shape, y_train.shape"
   ]
  },
  {
   "cell_type": "code",
   "execution_count": 15,
   "metadata": {
    "collapsed": false
   },
   "outputs": [
    {
     "name": "stdout",
     "output_type": "stream",
     "text": [
      "n_samples : 105600, n_features : 128\n"
     ]
    }
   ],
   "source": [
    "print('n_samples : %d, n_features : %d' % X_train.shape)"
   ]
  },
  {
   "cell_type": "code",
   "execution_count": 16,
   "metadata": {
    "collapsed": false
   },
   "outputs": [
    {
     "data": {
      "text/plain": [
       "(0.0, array([-1,  1]))"
      ]
     },
     "execution_count": 16,
     "metadata": {},
     "output_type": "execute_result"
    }
   ],
   "source": [
    "np.mean(y_train), np.unique(y_train)"
   ]
  },
  {
   "cell_type": "code",
   "execution_count": 17,
   "metadata": {
    "collapsed": true
   },
   "outputs": [],
   "source": [
    "#from sklearn.preprocessing import StandardScaler\n",
    "#X_scaler = StandardScaler()\n",
    "#X_train = X_scaler.fit_transform(X_train)\n",
    "#X_test = X_scaler.transform(X_test)"
   ]
  },
  {
   "cell_type": "markdown",
   "metadata": {},
   "source": [
    "## Exemple de classification\n",
    "\n",
    "Voyons maintenant un exemple de classification et de production d'un fichier de soumission"
   ]
  },
  {
   "cell_type": "code",
   "execution_count": 18,
   "metadata": {
    "collapsed": false,
    "scrolled": true
   },
   "outputs": [
    {
     "name": "stdout",
     "output_type": "stream",
     "text": [
      "[LibLinear][LibLinear][LibLinear][LibLinear][LibLinear][LibLinear][LibLinear][LibLinear][LibLinear][LibLinear][LibLinear][LibLinear][LibLinear][LibLinear][LibLinear][LibLinear][LibLinear][LibLinear][LibLinear][LibLinear][LibLinear][LibLinear][LibLinear][LibLinear][LibLinear][LibLinear][LibLinear][LibLinear][LibLinear][LibLinear][LibLinear][LibLinear][LibLinear][LibLinear][LibLinear][LibLinear][LibLinear][LibLinear][LibLinear][LibLinear][LibLinear][LibLinear][LibLinear][LibLinear][LibLinear][LibLinear][LibLinear][LibLinear][LibLinear][LibLinear][LibLinear][LibLinear][LibLinear][LibLinear][LibLinear][LibLinear][LibLinear][LibLinear][LibLinear][LibLinear][LibLinear][LibLinear][LibLinear][LibLinear][LibLinear][LibLinear][LibLinear][LibLinear][LibLinear][LibLinear][LibLinear][LibLinear][LibLinear][LibLinear][LibLinear][LibLinear][LibLinear][LibLinear][LibLinear][LibLinear][LibLinear][LibLinear][LibLinear][LibLinear][LibLinear][LibLinear][LibLinear][LibLinear][LibLinear][LibLinear][LibLinear][LibLinear][LibLinear][LibLinear][LibLinear][LibLinear][LibLinear][LibLinear][LibLinear][LibLinear][LibLinear]"
     ]
    },
    {
     "data": {
      "text/plain": [
       "LogisticRegression(C=54.555947811685201, class_weight=None, dual=False,\n",
       "          fit_intercept=True, intercept_scaling=1, max_iter=100,\n",
       "          multi_class='ovr', n_jobs=1, penalty='l2', random_state=42,\n",
       "          solver='liblinear', tol=0.0001, verbose=True, warm_start=False)"
      ]
     },
     "execution_count": 18,
     "metadata": {},
     "output_type": "execute_result"
    }
   ],
   "source": [
    "from sklearn.linear_model import LogisticRegression\n",
    "from sklearn.grid_search import GridSearchCV\n",
    "from sklearn.metrics import roc_auc_score\n",
    "\n",
    "param_grid = {#\"solver\":[\"newton-cg\", \"lbfgs\", \"liblinear\", \"sag\"],\n",
    "    \"C\":np.logspace(1, 2, 20),\n",
    "}\n",
    "\n",
    "clf = LogisticRegression(solver=\"liblinear\", random_state=42, verbose=True)\n",
    "gs = GridSearchCV(clf, param_grid, cv=5)\n",
    "gs.fit(X_train, y_train)\n",
    "\n",
    "gs.best_estimator_"
   ]
  },
  {
   "cell_type": "code",
   "execution_count": 19,
   "metadata": {
    "collapsed": false
   },
   "outputs": [
    {
     "name": "stdout",
     "output_type": "stream",
     "text": [
      "Score sur le train : 0.334176136364\n"
     ]
    }
   ],
   "source": [
    "# Prediction\n",
    "y_pred_train =  gs.best_estimator_.predict(X_train)\n",
    "y_predict_train_proba = gs.best_estimator_.predict_proba(X_train)[:,0]\n",
    "        \n",
    "for i in range(len(y_pred_train)):\n",
    "    if (y_predict_train_proba[i]<0.9)and(y_predict_train_proba[i]>1-0.9):\n",
    "        y_pred_train[i]=0\n",
    "\n",
    "# score\n",
    "score = compute_pred_score(y_train, y_pred_train)\n",
    "print('Score sur le train : %s' % score)"
   ]
  },
  {
   "cell_type": "markdown",
   "metadata": {},
   "source": [
    "Génération de la prédiction sur le test et enregistrement du fichier à soumettre sur le site:"
   ]
  },
  {
   "cell_type": "code",
   "execution_count": 20,
   "metadata": {
    "collapsed": false
   },
   "outputs": [
    {
     "name": "stdout",
     "output_type": "stream",
     "text": [
      "[-1  0  1]\n"
     ]
    }
   ],
   "source": [
    "y_pred = gs.best_estimator_.predict(X_test)\n",
    "y_predict_proba = gs.best_estimator_.predict_proba(X_test)[:,0]\n",
    "\n",
    "for i in range(len(y_pred)):\n",
    "    if (y_predict_proba[i]<0.9)and(y_predict_proba[i]>1-0.9):\n",
    "        y_pred[i]=0\n",
    "print np.unique(y_pred)\n",
    "\n",
    "np.savetxt('y_pred.txt', y_pred, fmt='%d')\n",
    "# 0.63"
   ]
  },
  {
   "cell_type": "markdown",
   "metadata": {},
   "source": [
    "Vous pouvez maintenant uploader votre fichier `y_pred.txt` sur le site.\n",
    "\n",
    "Bonne chance !"
   ]
  }
 ],
 "metadata": {
  "anaconda-cloud": {},
  "kernelspec": {
   "display_name": "Python 2",
   "language": "python",
   "name": "python2"
  },
  "language_info": {
   "codemirror_mode": {
    "name": "ipython",
    "version": 2
   },
   "file_extension": ".py",
   "mimetype": "text/x-python",
   "name": "python",
   "nbconvert_exporter": "python",
   "pygments_lexer": "ipython2",
   "version": "2.7.13"
  }
 },
 "nbformat": 4,
 "nbformat_minor": 0
}
