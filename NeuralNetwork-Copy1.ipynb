{
 "cells": [
  {
   "cell_type": "markdown",
   "metadata": {},
   "source": [
    "# Prédiction du genre d'une personne à partir de sa photo\n",
    "## MLPClassifier\n",
    "\n",
    "auteur : Rui SONG"
   ]
  },
  {
   "cell_type": "markdown",
   "metadata": {},
   "source": [
    "###Imports and initializations"
   ]
  },
  {
   "cell_type": "code",
   "execution_count": 1,
   "metadata": {
    "collapsed": true
   },
   "outputs": [],
   "source": [
    "%matplotlib inline\n",
    "import numpy as np\n",
    "import matplotlib.pyplot as plt\n",
    "import pandas as pd"
   ]
  },
  {
   "cell_type": "markdown",
   "metadata": {},
   "source": [
    "###Data loading"
   ]
  },
  {
   "cell_type": "code",
   "execution_count": 2,
   "metadata": {
    "collapsed": false
   },
   "outputs": [],
   "source": [
    "from sklearn.preprocessing import StandardScaler\n",
    "\n",
    "X_train_fname = 'training_templates.csv'\n",
    "y_train_fname = 'training_labels.txt'\n",
    "X_test_fname  = 'testing_templates.csv'\n",
    "X_train = pd.read_csv(X_train_fname, sep=',', header=None).values\n",
    "X_test  = pd.read_csv(X_test_fname,  sep=',', header=None).values\n",
    "y_train = np.loadtxt(y_train_fname, dtype=np.int)\n",
    "\n",
    "X_scaler = StandardScaler()\n",
    "X_train = X_scaler.fit_transform(X_train)\n",
    "X_test = X_scaler.transform(X_test)"
   ]
  },
  {
   "cell_type": "markdown",
   "metadata": {},
   "source": [
    "### Training"
   ]
  },
  {
   "cell_type": "code",
   "execution_count": 3,
   "metadata": {
    "collapsed": false,
    "scrolled": true
   },
   "outputs": [
    {
     "name": "stdout",
     "output_type": "stream",
     "text": [
      "Iteration 1, loss = 0.28528220\n",
      "Iteration 2, loss = 0.12507022\n",
      "Iteration 3, loss = 0.09831033\n",
      "Iteration 4, loss = 0.09117626\n",
      "Iteration 5, loss = 0.08800646\n",
      "Iteration 6, loss = 0.08594284\n",
      "Iteration 7, loss = 0.08495806\n",
      "Iteration 8, loss = 0.08377855\n",
      "Iteration 9, loss = 0.08274582\n",
      "Iteration 10, loss = 0.08207196\n",
      "Iteration 11, loss = 0.08244503\n",
      "Iteration 12, loss = 0.08117450\n",
      "Iteration 13, loss = 0.08122686\n",
      "Iteration 14, loss = 0.08096752\n",
      "Iteration 15, loss = 0.08052516\n",
      "Iteration 16, loss = 0.08047688\n",
      "Iteration 17, loss = 0.07969510\n",
      "Iteration 18, loss = 0.07949369\n",
      "Iteration 19, loss = 0.07953779\n",
      "Iteration 20, loss = 0.07963483\n",
      "Iteration 21, loss = 0.07934878\n",
      "Iteration 22, loss = 0.07882980\n",
      "Iteration 23, loss = 0.07891016\n",
      "Iteration 24, loss = 0.07887338\n",
      "Iteration 25, loss = 0.07869679\n",
      "Iteration 26, loss = 0.07857971\n",
      "Iteration 27, loss = 0.07830633\n",
      "Iteration 28, loss = 0.07844398\n",
      "Iteration 29, loss = 0.07852517\n",
      "Iteration 30, loss = 0.07813646\n",
      "Iteration 31, loss = 0.07808223\n",
      "Iteration 32, loss = 0.07770142\n",
      "Iteration 33, loss = 0.07817060\n",
      "Iteration 34, loss = 0.07783023\n",
      "Iteration 35, loss = 0.07765752\n",
      "Training loss did not improve more than tol=0.000100 for two consecutive epochs. Stopping.\n"
     ]
    },
    {
     "data": {
      "text/plain": [
       "MLPClassifier(activation='relu', alpha=0.52, batch_size='auto', beta_1=0.9,\n",
       "       beta_2=0.999, early_stopping=False, epsilon=1e-08,\n",
       "       hidden_layer_sizes=(128, 64), learning_rate='constant',\n",
       "       learning_rate_init=0.001, max_iter=200, momentum=0.9,\n",
       "       nesterovs_momentum=True, power_t=0.5, random_state=None,\n",
       "       shuffle=True, solver='adam', tol=0.0001, validation_fraction=0.1,\n",
       "       verbose=True, warm_start=False)"
      ]
     },
     "execution_count": 3,
     "metadata": {},
     "output_type": "execute_result"
    }
   ],
   "source": [
    "from sklearn.metrics import roc_auc_score\n",
    "from sklearn.neural_network import MLPClassifier\n",
    "import CustomClassifier\n",
    "\n",
    "np.random.seed(45)\n",
    "\n",
    "clf = MLPClassifier(alpha=0.52, hidden_layer_sizes=(128,64), verbose=True)\n",
    "clf.fit(X_train, y_train)\n"
   ]
  },
  {
   "cell_type": "code",
   "execution_count": 4,
   "metadata": {
    "collapsed": false,
    "scrolled": true
   },
   "outputs": [
    {
     "name": "stdout",
     "output_type": "stream",
     "text": [
      "Score sur le train : 0.989251893939\n"
     ]
    }
   ],
   "source": [
    "# score\n",
    "score = clf.score(X_train, y_train)\n",
    "print('Score sur le train : %s' % score)"
   ]
  },
  {
   "cell_type": "markdown",
   "metadata": {},
   "source": [
    "## Predictions"
   ]
  },
  {
   "cell_type": "markdown",
   "metadata": {},
   "source": [
    "Génération de la prédiction sur le test et enregistrement du fichier à soumettre sur le site:"
   ]
  },
  {
   "cell_type": "code",
   "execution_count": 7,
   "metadata": {
    "collapsed": false
   },
   "outputs": [
    {
     "name": "stdout",
     "output_type": "stream",
     "text": [
      "[-1  0  1]\n"
     ]
    }
   ],
   "source": [
    "y_pred = clf.predict(X_test)\n",
    "y_predict_proba = clf.predict_proba(X_test)[:,0]\n",
    "\n",
    "for i in range(len(y_pred)):\n",
    "    if (y_predict_proba[i]<0.95)and(y_predict_proba[i]>1-0.95):\n",
    "        y_pred[i]=0\n",
    "print np.unique(y_pred)\n",
    "\n",
    "np.savetxt('y_pred_MLP2.txt', y_pred, fmt='%d')"
   ]
  },
  {
   "cell_type": "code",
   "execution_count": null,
   "metadata": {
    "collapsed": true
   },
   "outputs": [],
   "source": []
  }
 ],
 "metadata": {
  "anaconda-cloud": {},
  "kernelspec": {
   "display_name": "Python 2",
   "language": "python",
   "name": "python2"
  },
  "language_info": {
   "codemirror_mode": {
    "name": "ipython",
    "version": 2
   },
   "file_extension": ".py",
   "mimetype": "text/x-python",
   "name": "python",
   "nbconvert_exporter": "python",
   "pygments_lexer": "ipython2",
   "version": "2.7.13"
  }
 },
 "nbformat": 4,
 "nbformat_minor": 0
}
