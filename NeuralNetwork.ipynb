{
 "cells": [
  {
   "cell_type": "markdown",
   "metadata": {},
   "source": [
    "# Prédiction du genre d'une personne à partir de sa photo\n",
    "## MLPClassifier\n",
    "\n",
    "auteur : Rui SONG"
   ]
  },
  {
   "cell_type": "markdown",
   "metadata": {},
   "source": [
    "###Imports and initializations"
   ]
  },
  {
   "cell_type": "code",
   "execution_count": 2,
   "metadata": {
    "collapsed": true
   },
   "outputs": [],
   "source": [
    "%matplotlib inline\n",
    "import numpy as np\n",
    "import matplotlib.pyplot as plt\n",
    "import pandas as pd"
   ]
  },
  {
   "cell_type": "markdown",
   "metadata": {},
   "source": [
    "###Data loading"
   ]
  },
  {
   "cell_type": "code",
   "execution_count": 3,
   "metadata": {
    "collapsed": false
   },
   "outputs": [],
   "source": [
    "from sklearn.preprocessing import StandardScaler\n",
    "\n",
    "X_train_fname = 'training_templates.csv'\n",
    "y_train_fname = 'training_labels.txt'\n",
    "X_test_fname  = 'testing_templates.csv'\n",
    "X_train = pd.read_csv(X_train_fname, sep=',', header=None).values\n",
    "X_test  = pd.read_csv(X_test_fname,  sep=',', header=None).values\n",
    "y_train = np.loadtxt(y_train_fname, dtype=np.int)\n",
    "\n",
    "#X_scaler = StandardScaler()\n",
    "#X_train = X_scaler.fit_transform(X_train)\n",
    "#X_test = X_scaler.transform(X_test)"
   ]
  },
  {
   "cell_type": "markdown",
   "metadata": {},
   "source": [
    "### Training"
   ]
  },
  {
   "cell_type": "code",
   "execution_count": 4,
   "metadata": {
    "collapsed": false,
    "scrolled": true
   },
   "outputs": [
    {
     "name": "stdout",
     "output_type": "stream",
     "text": [
      "Iteration 1, loss = 0.15981693\n",
      "Iteration 2, loss = 0.08109347\n",
      "Iteration 3, loss = 0.07122177\n",
      "Iteration 4, loss = 0.06568741\n",
      "Iteration 5, loss = 0.06231347\n",
      "Iteration 6, loss = 0.05916631\n",
      "Iteration 7, loss = 0.05723449\n",
      "Iteration 8, loss = 0.05613373\n",
      "Iteration 9, loss = 0.05454929\n",
      "Iteration 10, loss = 0.05348385\n",
      "Iteration 11, loss = 0.05257715\n",
      "Iteration 12, loss = 0.05210392\n",
      "Iteration 13, loss = 0.05154813\n",
      "Iteration 14, loss = 0.05119287\n",
      "Iteration 15, loss = 0.05089552\n",
      "Iteration 16, loss = 0.04995553\n",
      "Iteration 17, loss = 0.04978026\n",
      "Iteration 18, loss = 0.04983642\n",
      "Iteration 19, loss = 0.04933477\n",
      "Iteration 20, loss = 0.04885397\n",
      "Iteration 21, loss = 0.04877933\n",
      "Iteration 22, loss = 0.04890188\n",
      "Iteration 23, loss = 0.04855137\n",
      "Iteration 24, loss = 0.04820945\n",
      "Iteration 25, loss = 0.04844096\n",
      "Iteration 26, loss = 0.04810942\n",
      "Iteration 27, loss = 0.04800441\n",
      "Iteration 28, loss = 0.04792669\n",
      "Iteration 29, loss = 0.04796348\n",
      "Iteration 30, loss = 0.04778957\n",
      "Iteration 31, loss = 0.04758907\n",
      "Iteration 32, loss = 0.04759648\n",
      "Iteration 33, loss = 0.04740074\n",
      "Iteration 34, loss = 0.04735346\n",
      "Iteration 35, loss = 0.04733511\n",
      "Iteration 36, loss = 0.04717665\n",
      "Iteration 37, loss = 0.04712645\n",
      "Iteration 38, loss = 0.04706914\n",
      "Iteration 39, loss = 0.04738156\n",
      "Training loss did not improve more than tol=0.000100 for two consecutive epochs. Stopping.\n"
     ]
    },
    {
     "data": {
      "text/plain": [
       "CustomNeuralClassifier(activation=None, alpha=None, batch_size=None,\n",
       "            beta_1=None, beta_2=None, epsilon=None,\n",
       "            hidden_layer_sizes=None, max_iter=None, momentum=None,\n",
       "            nesterovs_momentum=None, random_state=None, seuil=0.9,\n",
       "            solver=None, verbose=None, warm_start=None)"
      ]
     },
     "execution_count": 4,
     "metadata": {},
     "output_type": "execute_result"
    }
   ],
   "source": [
    "from sklearn.metrics import roc_auc_score\n",
    "import CustomClassifier\n",
    "\n",
    "clf = CustomClassifier.CustomNeuralClassifier(alpha=0.01, hidden_layer_sizes=(1024,), random_state=42, verbose=True)\n",
    "clf.fit(X_train, y_train)\n"
   ]
  },
  {
   "cell_type": "code",
   "execution_count": 5,
   "metadata": {
    "collapsed": false,
    "scrolled": true
   },
   "outputs": [
    {
     "name": "stdout",
     "output_type": "stream",
     "text": [
      "Score sur le train : 0.0405303030303\n"
     ]
    }
   ],
   "source": [
    "# score\n",
    "score = clf.score(X_train, y_train)\n",
    "print('Score sur le train : %s' % score)"
   ]
  },
  {
   "cell_type": "markdown",
   "metadata": {},
   "source": [
    "## Predictions"
   ]
  },
  {
   "cell_type": "markdown",
   "metadata": {},
   "source": [
    "Génération de la prédiction sur le test et enregistrement du fichier à soumettre sur le site:"
   ]
  },
  {
   "cell_type": "code",
   "execution_count": 6,
   "metadata": {
    "collapsed": false
   },
   "outputs": [
    {
     "name": "stdout",
     "output_type": "stream",
     "text": [
      "[-1  0  1]\n"
     ]
    }
   ],
   "source": [
    "y_pred = clf.predict(X_test)\n",
    "print np.unique(y_pred)\n",
    "\n",
    "np.savetxt('y_pred.txt', y_pred, fmt='%d')"
   ]
  },
  {
   "cell_type": "code",
   "execution_count": null,
   "metadata": {
    "collapsed": true
   },
   "outputs": [],
   "source": []
  }
 ],
 "metadata": {
  "anaconda-cloud": {},
  "kernelspec": {
   "display_name": "Python 2",
   "language": "python",
   "name": "python2"
  },
  "language_info": {
   "codemirror_mode": {
    "name": "ipython",
    "version": 2
   },
   "file_extension": ".py",
   "mimetype": "text/x-python",
   "name": "python",
   "nbconvert_exporter": "python",
   "pygments_lexer": "ipython2",
   "version": "2.7.12"
  }
 },
 "nbformat": 4,
 "nbformat_minor": 0
}
