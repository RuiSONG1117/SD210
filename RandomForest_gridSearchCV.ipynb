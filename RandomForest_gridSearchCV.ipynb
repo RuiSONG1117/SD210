{
 "cells": [
  {
   "cell_type": "markdown",
   "metadata": {},
   "source": [
    "# Prédiction du genre d'une personne à partir de sa photo\n",
    "\n",
    "auteur : Umut Şimşekli & Alexandre Gramfort, challenge SD210 2017\n",
    "\n",
    "L'objectif est de prédire le genre d'une personne (homme ou femme) à partir de caractéristiques extraites d'une photo.\n",
    "\n",
    "Les données sont fournies par la société Morpho: http://www.morpho.com/fr\n",
    "\n",
    "Le fichier que doit fournir chacun est un fichier au format .txt de 8496 lignes::\n",
    "\n",
    "    1\n",
    "    0\n",
    "    -1\n",
    "    1\n",
    "    ...\n",
    "\n",
    "où chaque ligne contient la prédiction. Contrairement à un problème de classification binaire où y=1 ou y=-1, vous avez la possibilité de prédire 0, ce qui signifie que vous ne savez pas. Il y a 8496 images dans l'ensemble de validation.\n",
    "\n",
    "\n",
    "### Critère de performance \n",
    "\n",
    "Vous pouvez donc répondre pour chaque image : homme (y=1), femme (y=-1) ou je-ne-sais-pas (y=0).\n",
    "\n",
    "Se tromper coûte 10 points et ne pas savoir coûte 1 point. Mathématiquement, le score est calculé de la façon suivante:\n",
    " \n",
    "$score = \\frac1{N} \\sum_{i=1}^N \\Bigl(\\mathbb{1}(\\hat{y}_i = 0) + 10 \\times \\mathbb{1}(y_i \\hat{y}_i = -1)   \\Bigr) $ \n",
    "\n",
    "où $\\mathbb{1}(\\cdot)$ est la fonction indicatrice; $\\mathbb{1}(x) = 1$ si $x$ est vrai, et $\\mathbb{1}(x) = 0$, sinon.\n",
    "\n",
    "Plus ce nombre est petit mieux c'est.\n",
    "\n",
    "\n",
    "# Données d'apprentissage: \n",
    "\n",
    "https://www.dropbox.com/s/dqudxed82ljnxa8/training_templates.csv\n",
    "\n",
    "https://www.dropbox.com/s/l0f9z08rysp0kjy/training_labels.txt\n",
    "\n",
    "\n",
    "# Données de validation:\n",
    "\n",
    "https://www.dropbox.com/s/syrry7miykrmjz0/testing_templates.csv\n",
    "\n",
    "Voyons cela par l'exemple:"
   ]
  },
  {
   "cell_type": "code",
   "execution_count": 1,
   "metadata": {
    "collapsed": true
   },
   "outputs": [],
   "source": [
    "%matplotlib inline\n",
    "import numpy as np\n",
    "import matplotlib.pyplot as plt\n",
    "import pandas as pd"
   ]
  },
  {
   "cell_type": "code",
   "execution_count": 2,
   "metadata": {
    "collapsed": true
   },
   "outputs": [],
   "source": [
    "# Critere de performance\n",
    "def compute_pred_score(y_true, y_pred):\n",
    "    y_pred_unq =  np.unique(y_pred)\n",
    "    for i in y_pred_unq:\n",
    "        if((i != -1) & (i!= 1) & (i!= 0) ):\n",
    "            raise ValueError('The predictions can contain only -1, 1, or 0!')\n",
    "    y_comp = y_true * y_pred\n",
    "    score = float(10*np.sum(y_comp == -1) + np.sum(y_comp == 0))\n",
    "    score /= y_comp.shape[0]\n",
    "    return score"
   ]
  },
  {
   "cell_type": "code",
   "execution_count": 3,
   "metadata": {
    "collapsed": false
   },
   "outputs": [],
   "source": [
    "X_train_fname = 'training_templates.csv'\n",
    "y_train_fname = 'training_labels.txt'\n",
    "X_test_fname  = 'testing_templates.csv'\n",
    "X_train = pd.read_csv(X_train_fname, sep=',', header=None).values\n",
    "X_test  = pd.read_csv(X_test_fname,  sep=',', header=None).values\n",
    "y_train = np.loadtxt(y_train_fname, dtype=np.int)"
   ]
  },
  {
   "cell_type": "markdown",
   "metadata": {},
   "source": [
    "## Investigation des données"
   ]
  },
  {
   "cell_type": "code",
   "execution_count": 4,
   "metadata": {
    "collapsed": false
   },
   "outputs": [
    {
     "data": {
      "text/plain": [
       "((105600, 128), (8496, 128), (105600,))"
      ]
     },
     "execution_count": 4,
     "metadata": {},
     "output_type": "execute_result"
    }
   ],
   "source": [
    "X_train.shape, X_test.shape, y_train.shape"
   ]
  },
  {
   "cell_type": "code",
   "execution_count": 5,
   "metadata": {
    "collapsed": false
   },
   "outputs": [
    {
     "name": "stdout",
     "output_type": "stream",
     "text": [
      "n_samples : 105600, n_features : 128\n"
     ]
    }
   ],
   "source": [
    "print('n_samples : %d, n_features : %d' % X_train.shape)"
   ]
  },
  {
   "cell_type": "code",
   "execution_count": 6,
   "metadata": {
    "collapsed": false
   },
   "outputs": [
    {
     "data": {
      "text/plain": [
       "(0.0, array([-1,  1]))"
      ]
     },
     "execution_count": 6,
     "metadata": {},
     "output_type": "execute_result"
    }
   ],
   "source": [
    "np.mean(y_train), np.unique(y_train)"
   ]
  },
  {
   "cell_type": "code",
   "execution_count": 7,
   "metadata": {
    "collapsed": true
   },
   "outputs": [],
   "source": [
    "#from sklearn.preprocessing import StandardScaler\n",
    "#X_scaler = StandardScaler()\n",
    "#X_train = X_scaler.fit_transform(X_train)\n",
    "#X_test = X_scaler.transform(X_test)"
   ]
  },
  {
   "cell_type": "markdown",
   "metadata": {},
   "source": [
    "## Exemple de classification\n",
    "\n",
    "Voyons maintenant un exemple de classification et de production d'un fichier de soumission"
   ]
  },
  {
   "cell_type": "code",
   "execution_count": 8,
   "metadata": {
    "collapsed": false,
    "scrolled": true
   },
   "outputs": [
    {
     "name": "stderr",
     "output_type": "stream",
     "text": [
      "/cal/softs/anaconda/anaconda-2.0.1/lib/python2.7/site-packages/sklearn/cross_validation.py:44: DeprecationWarning: This module was deprecated in version 0.18 in favor of the model_selection module into which all the refactored classes and functions are moved. Also note that the interface of the new CV iterators are different from that of this module. This module will be removed in 0.20.\n",
      "  \"This module will be removed in 0.20.\", DeprecationWarning)\n",
      "/cal/softs/anaconda/anaconda-2.0.1/lib/python2.7/site-packages/sklearn/grid_search.py:43: DeprecationWarning: This module was deprecated in version 0.18 in favor of the model_selection module into which all the refactored classes and functions are moved. This module will be removed in 0.20.\n",
      "  DeprecationWarning)\n",
      "[Parallel(n_jobs=1)]: Done  40 out of  40 | elapsed:   35.5s finished\n",
      "[Parallel(n_jobs=1)]: Done  40 out of  40 | elapsed:    0.2s finished\n",
      "[Parallel(n_jobs=1)]: Done  40 out of  40 | elapsed:   36.0s finished\n",
      "[Parallel(n_jobs=1)]: Done  40 out of  40 | elapsed:    0.2s finished\n",
      "[Parallel(n_jobs=1)]: Done  40 out of  40 | elapsed:   35.6s finished\n",
      "[Parallel(n_jobs=1)]: Done  40 out of  40 | elapsed:    0.2s finished\n",
      "[Parallel(n_jobs=1)]: Done  40 out of  40 | elapsed:   35.6s finished\n",
      "[Parallel(n_jobs=1)]: Done  40 out of  40 | elapsed:    0.2s finished\n",
      "[Parallel(n_jobs=1)]: Done  40 out of  40 | elapsed:   35.1s finished\n",
      "[Parallel(n_jobs=1)]: Done  40 out of  40 | elapsed:    0.2s finished\n",
      "[Parallel(n_jobs=1)]: Done  80 out of  80 | elapsed:  1.2min finished\n",
      "[Parallel(n_jobs=1)]: Done  80 out of  80 | elapsed:    0.4s finished\n",
      "[Parallel(n_jobs=1)]: Done  80 out of  80 | elapsed:  1.2min finished\n",
      "[Parallel(n_jobs=1)]: Done  80 out of  80 | elapsed:    0.4s finished\n",
      "[Parallel(n_jobs=1)]: Done  80 out of  80 | elapsed:  1.2min finished\n",
      "[Parallel(n_jobs=1)]: Done  80 out of  80 | elapsed:    0.4s finished\n",
      "[Parallel(n_jobs=1)]: Done  80 out of  80 | elapsed:  1.2min finished\n",
      "[Parallel(n_jobs=1)]: Done  80 out of  80 | elapsed:    0.4s finished\n",
      "[Parallel(n_jobs=1)]: Done  80 out of  80 | elapsed:  1.2min finished\n",
      "[Parallel(n_jobs=1)]: Done  80 out of  80 | elapsed:    0.4s finished\n",
      "[Parallel(n_jobs=1)]: Done 120 out of 120 | elapsed:  1.8min finished\n",
      "[Parallel(n_jobs=1)]: Done 120 out of 120 | elapsed:    0.6s finished\n",
      "[Parallel(n_jobs=1)]: Done 120 out of 120 | elapsed:  1.8min finished\n",
      "[Parallel(n_jobs=1)]: Done 120 out of 120 | elapsed:    0.6s finished\n",
      "[Parallel(n_jobs=1)]: Done 120 out of 120 | elapsed:  1.8min finished\n",
      "[Parallel(n_jobs=1)]: Done 120 out of 120 | elapsed:    0.6s finished\n",
      "[Parallel(n_jobs=1)]: Done 120 out of 120 | elapsed:  2.2min finished\n",
      "[Parallel(n_jobs=1)]: Done 120 out of 120 | elapsed:    0.9s finished\n",
      "[Parallel(n_jobs=1)]: Done 120 out of 120 | elapsed:  2.9min finished\n",
      "[Parallel(n_jobs=1)]: Done 120 out of 120 | elapsed:    0.9s finished\n",
      "[Parallel(n_jobs=1)]: Done 200 out of 200 | elapsed:  4.8min finished\n",
      "[Parallel(n_jobs=1)]: Done 200 out of 200 | elapsed:    1.3s finished\n",
      "[Parallel(n_jobs=1)]: Done 200 out of 200 | elapsed:  4.8min finished\n",
      "[Parallel(n_jobs=1)]: Done 200 out of 200 | elapsed:    1.5s finished\n",
      "[Parallel(n_jobs=1)]: Done 200 out of 200 | elapsed:  4.7min finished\n",
      "[Parallel(n_jobs=1)]: Done 200 out of 200 | elapsed:    1.6s finished\n",
      "[Parallel(n_jobs=1)]: Done 200 out of 200 | elapsed:  4.7min finished\n",
      "[Parallel(n_jobs=1)]: Done 200 out of 200 | elapsed:    1.6s finished\n",
      "[Parallel(n_jobs=1)]: Done 200 out of 200 | elapsed:  4.5min finished\n",
      "[Parallel(n_jobs=1)]: Done 200 out of 200 | elapsed:    1.6s finished\n",
      "[Parallel(n_jobs=1)]: Done  40 out of  40 | elapsed:   56.5s finished\n",
      "[Parallel(n_jobs=1)]: Done  40 out of  40 | elapsed:    0.3s finished\n",
      "[Parallel(n_jobs=1)]: Done  40 out of  40 | elapsed:   55.1s finished\n",
      "[Parallel(n_jobs=1)]: Done  40 out of  40 | elapsed:    0.3s finished\n",
      "[Parallel(n_jobs=1)]: Done  40 out of  40 | elapsed:   58.6s finished\n",
      "[Parallel(n_jobs=1)]: Done  40 out of  40 | elapsed:    0.3s finished\n",
      "[Parallel(n_jobs=1)]: Done  40 out of  40 | elapsed:  1.0min finished\n",
      "[Parallel(n_jobs=1)]: Done  40 out of  40 | elapsed:    0.3s finished\n",
      "[Parallel(n_jobs=1)]: Done  40 out of  40 | elapsed:   57.2s finished\n",
      "[Parallel(n_jobs=1)]: Done  40 out of  40 | elapsed:    0.3s finished\n",
      "[Parallel(n_jobs=1)]: Done  80 out of  80 | elapsed:  1.8min finished\n",
      "[Parallel(n_jobs=1)]: Done  80 out of  80 | elapsed:    0.5s finished\n",
      "[Parallel(n_jobs=1)]: Done  80 out of  80 | elapsed:  1.9min finished\n",
      "[Parallel(n_jobs=1)]: Done  80 out of  80 | elapsed:    0.6s finished\n",
      "[Parallel(n_jobs=1)]: Done  80 out of  80 | elapsed:  2.0min finished\n",
      "[Parallel(n_jobs=1)]: Done  80 out of  80 | elapsed:    0.6s finished\n",
      "[Parallel(n_jobs=1)]: Done  80 out of  80 | elapsed:  1.9min finished\n",
      "[Parallel(n_jobs=1)]: Done  80 out of  80 | elapsed:    0.5s finished\n",
      "[Parallel(n_jobs=1)]: Done  80 out of  80 | elapsed:  1.9min finished\n",
      "[Parallel(n_jobs=1)]: Done  80 out of  80 | elapsed:    0.5s finished\n",
      "[Parallel(n_jobs=1)]: Done 120 out of 120 | elapsed:  2.9min finished\n",
      "[Parallel(n_jobs=1)]: Done 120 out of 120 | elapsed:    0.8s finished\n",
      "[Parallel(n_jobs=1)]: Done 120 out of 120 | elapsed:  2.9min finished\n",
      "[Parallel(n_jobs=1)]: Done 120 out of 120 | elapsed:    1.0s finished\n",
      "[Parallel(n_jobs=1)]: Done 120 out of 120 | elapsed:  3.1min finished\n",
      "[Parallel(n_jobs=1)]: Done 120 out of 120 | elapsed:    1.0s finished\n",
      "[Parallel(n_jobs=1)]: Done 120 out of 120 | elapsed:  3.5min finished\n",
      "[Parallel(n_jobs=1)]: Done 120 out of 120 | elapsed:    1.0s finished\n",
      "[Parallel(n_jobs=1)]: Done 120 out of 120 | elapsed:  3.5min finished\n",
      "[Parallel(n_jobs=1)]: Done 120 out of 120 | elapsed:    0.9s finished\n",
      "[Parallel(n_jobs=1)]: Done 200 out of 200 | elapsed:  6.1min finished\n",
      "[Parallel(n_jobs=1)]: Done 200 out of 200 | elapsed:    1.8s finished\n",
      "[Parallel(n_jobs=1)]: Done 200 out of 200 | elapsed:  6.1min finished\n",
      "[Parallel(n_jobs=1)]: Done 200 out of 200 | elapsed:    1.7s finished\n",
      "[Parallel(n_jobs=1)]: Done 200 out of 200 | elapsed:  6.1min finished\n",
      "[Parallel(n_jobs=1)]: Done 200 out of 200 | elapsed:    1.6s finished\n",
      "[Parallel(n_jobs=1)]: Done 200 out of 200 | elapsed:  5.5min finished\n",
      "[Parallel(n_jobs=1)]: Done 200 out of 200 | elapsed:    1.6s finished\n",
      "[Parallel(n_jobs=1)]: Done 200 out of 200 | elapsed:  4.8min finished\n",
      "[Parallel(n_jobs=1)]: Done 200 out of 200 | elapsed:    1.4s finished\n",
      "[Parallel(n_jobs=1)]: Done  40 out of  40 | elapsed:   56.8s finished\n",
      "[Parallel(n_jobs=1)]: Done  40 out of  40 | elapsed:    0.2s finished\n",
      "[Parallel(n_jobs=1)]: Done  40 out of  40 | elapsed:   58.8s finished\n",
      "[Parallel(n_jobs=1)]: Done  40 out of  40 | elapsed:    0.3s finished\n",
      "[Parallel(n_jobs=1)]: Done  40 out of  40 | elapsed:   58.2s finished\n",
      "[Parallel(n_jobs=1)]: Done  40 out of  40 | elapsed:    0.3s finished\n",
      "[Parallel(n_jobs=1)]: Done  40 out of  40 | elapsed:  1.0min finished\n",
      "[Parallel(n_jobs=1)]: Done  40 out of  40 | elapsed:    0.3s finished\n",
      "[Parallel(n_jobs=1)]: Done  40 out of  40 | elapsed:   58.7s finished\n",
      "[Parallel(n_jobs=1)]: Done  40 out of  40 | elapsed:    0.3s finished\n",
      "[Parallel(n_jobs=1)]: Done  80 out of  80 | elapsed:  2.0min finished\n",
      "[Parallel(n_jobs=1)]: Done  80 out of  80 | elapsed:    0.5s finished\n",
      "[Parallel(n_jobs=1)]: Done  80 out of  80 | elapsed:  1.9min finished\n",
      "[Parallel(n_jobs=1)]: Done  80 out of  80 | elapsed:    0.6s finished\n",
      "[Parallel(n_jobs=1)]: Done  80 out of  80 | elapsed:  1.8min finished\n",
      "[Parallel(n_jobs=1)]: Done  80 out of  80 | elapsed:    0.5s finished\n",
      "[Parallel(n_jobs=1)]: Done  80 out of  80 | elapsed:  1.9min finished\n",
      "[Parallel(n_jobs=1)]: Done  80 out of  80 | elapsed:    0.5s finished\n",
      "[Parallel(n_jobs=1)]: Done  80 out of  80 | elapsed:  2.0min finished\n",
      "[Parallel(n_jobs=1)]: Done  80 out of  80 | elapsed:    0.6s finished\n",
      "[Parallel(n_jobs=1)]: Done 120 out of 120 | elapsed:  3.0min finished\n",
      "[Parallel(n_jobs=1)]: Done 120 out of 120 | elapsed:    0.8s finished\n",
      "[Parallel(n_jobs=1)]: Done 120 out of 120 | elapsed:  2.9min finished\n",
      "[Parallel(n_jobs=1)]: Done 120 out of 120 | elapsed:    0.8s finished\n",
      "[Parallel(n_jobs=1)]: Done 120 out of 120 | elapsed:  2.9min finished\n",
      "[Parallel(n_jobs=1)]: Done 120 out of 120 | elapsed:    0.9s finished\n",
      "[Parallel(n_jobs=1)]: Done 120 out of 120 | elapsed:  2.8min finished\n",
      "[Parallel(n_jobs=1)]: Done 120 out of 120 | elapsed:    0.9s finished\n",
      "[Parallel(n_jobs=1)]: Done 120 out of 120 | elapsed:  2.8min finished\n",
      "[Parallel(n_jobs=1)]: Done 120 out of 120 | elapsed:    1.0s finished\n",
      "[Parallel(n_jobs=1)]: Done 200 out of 200 | elapsed:  4.8min finished\n",
      "[Parallel(n_jobs=1)]: Done 200 out of 200 | elapsed:    1.1s finished\n",
      "[Parallel(n_jobs=1)]: Done 200 out of 200 | elapsed:  3.2min finished\n",
      "[Parallel(n_jobs=1)]: Done 200 out of 200 | elapsed:    0.9s finished\n",
      "[Parallel(n_jobs=1)]: Done 200 out of 200 | elapsed:  3.0min finished\n",
      "[Parallel(n_jobs=1)]: Done 200 out of 200 | elapsed:    0.9s finished\n",
      "[Parallel(n_jobs=1)]: Done 200 out of 200 | elapsed:  3.0min finished\n",
      "[Parallel(n_jobs=1)]: Done 200 out of 200 | elapsed:    1.0s finished\n",
      "[Parallel(n_jobs=1)]: Done 200 out of 200 | elapsed:  3.0min finished\n",
      "[Parallel(n_jobs=1)]: Done 200 out of 200 | elapsed:    0.9s finished\n",
      "[Parallel(n_jobs=1)]: Done 200 out of 200 | elapsed:  3.9min finished\n"
     ]
    },
    {
     "data": {
      "text/plain": [
       "RandomForestClassifier(bootstrap=False, class_weight=None, criterion='gini',\n",
       "            max_depth=None, max_features='log2', max_leaf_nodes=None,\n",
       "            min_impurity_split=9.9999999999999995e-08, min_samples_leaf=1,\n",
       "            min_samples_split=2, min_weight_fraction_leaf=0.0,\n",
       "            n_estimators=200, n_jobs=1, oob_score=False, random_state=42,\n",
       "            verbose=True, warm_start=False)"
      ]
     },
     "execution_count": 8,
     "metadata": {},
     "output_type": "execute_result"
    }
   ],
   "source": [
    "from sklearn.ensemble import RandomForestClassifier\n",
    "from sklearn.grid_search import GridSearchCV\n",
    "from sklearn.metrics import roc_auc_score\n",
    "\n",
    "param_grid = {\"n_estimators\":[40, 80, 120, 200],\n",
    "              \"min_impurity_split\":np.logspace(-7, -3, 3)\n",
    "}\n",
    "\n",
    "clf = RandomForestClassifier(max_features=\"log2\", bootstrap=False, random_state=42, verbose=True)\n",
    "gs = GridSearchCV(clf, param_grid, cv=5)\n",
    "gs.fit(X_train, y_train)\n",
    "\n",
    "gs.best_estimator_"
   ]
  },
  {
   "cell_type": "code",
   "execution_count": 9,
   "metadata": {
    "collapsed": false
   },
   "outputs": [
    {
     "name": "stderr",
     "output_type": "stream",
     "text": [
      "[Parallel(n_jobs=1)]: Done 200 out of 200 | elapsed:    5.9s finished\n",
      "[Parallel(n_jobs=1)]: Done 200 out of 200 | elapsed:    5.9s finished\n"
     ]
    },
    {
     "name": "stdout",
     "output_type": "stream",
     "text": [
      "Score sur le train : 5.68181818182e-05\n"
     ]
    }
   ],
   "source": [
    "# Prediction\n",
    "y_pred_train =  gs.best_estimator_.predict(X_train)\n",
    "y_predict_train_proba = gs.best_estimator_.predict_proba(X_train)[:,0]\n",
    "        \n",
    "for i in range(len(y_pred_train)):\n",
    "    if (y_predict_train_proba[i]<0.9)and(y_predict_train_proba[i]>1-0.9):\n",
    "        y_pred_train[i]=0\n",
    "\n",
    "# score\n",
    "score = compute_pred_score(y_train, y_pred_train)\n",
    "print('Score sur le train : %s' % score)"
   ]
  },
  {
   "cell_type": "markdown",
   "metadata": {},
   "source": [
    "Génération de la prédiction sur le test et enregistrement du fichier à soumettre sur le site:"
   ]
  },
  {
   "cell_type": "code",
   "execution_count": 10,
   "metadata": {
    "collapsed": false
   },
   "outputs": [
    {
     "name": "stderr",
     "output_type": "stream",
     "text": [
      "[Parallel(n_jobs=1)]: Done 200 out of 200 | elapsed:    0.6s finished\n",
      "[Parallel(n_jobs=1)]: Done 200 out of 200 | elapsed:    0.6s finished\n"
     ]
    },
    {
     "name": "stdout",
     "output_type": "stream",
     "text": [
      "[-1  0  1]\n"
     ]
    }
   ],
   "source": [
    "y_pred = gs.best_estimator_.predict(X_test)\n",
    "y_predict_proba = gs.best_estimator_.predict_proba(X_test)[:,0]\n",
    "\n",
    "for i in range(len(y_pred)):\n",
    "    if (y_predict_proba[i]<0.9)and(y_predict_proba[i]>1-0.9):\n",
    "        y_pred[i]=0\n",
    "print np.unique(y_pred)\n",
    "\n",
    "np.savetxt('y_pred.txt', y_pred, fmt='%d')\n",
    "# 0.63"
   ]
  },
  {
   "cell_type": "markdown",
   "metadata": {},
   "source": [
    "Vous pouvez maintenant uploader votre fichier `y_pred.txt` sur le site.\n",
    "\n",
    "Bonne chance !"
   ]
  }
 ],
 "metadata": {
  "anaconda-cloud": {},
  "kernelspec": {
   "display_name": "Python 2",
   "language": "python",
   "name": "python2"
  },
  "language_info": {
   "codemirror_mode": {
    "name": "ipython",
    "version": 2
   },
   "file_extension": ".py",
   "mimetype": "text/x-python",
   "name": "python",
   "nbconvert_exporter": "python",
   "pygments_lexer": "ipython2",
   "version": "2.7.13"
  }
 },
 "nbformat": 4,
 "nbformat_minor": 0
}
